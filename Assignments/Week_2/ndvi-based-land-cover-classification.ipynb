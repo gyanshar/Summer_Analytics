{
 "cells": [
  {
   "cell_type": "markdown",
   "id": "dbcf50b7",
   "metadata": {
    "papermill": {
     "duration": 0.00791,
     "end_time": "2025-06-14T13:28:42.812164",
     "exception": false,
     "start_time": "2025-06-14T13:28:42.804254",
     "status": "completed"
    },
    "tags": []
   },
   "source": [
    "# <center>**NDVI-Based Land Cover Classification**</center>"
   ]
  },
  {
   "attachments": {
    "c4c677de-5c9e-4f34-9e15-9bc0d1393863.png": {
     "image/png": "[encoded data removed]"
    }
   },
   "cell_type": "markdown",
   "id": "59755e39",
   "metadata": {
    "papermill": {
     "duration": 0.006616,
     "end_time": "2025-06-14T13:28:42.826073",
     "exception": false,
     "start_time": "2025-06-14T13:28:42.819457",
     "status": "completed"
    },
    "tags": []
   },
   "source": [
    "## Key Concepts\n",
    "\n",
    "1. **NDVI (Normalized Difference Vegetation Index):**\n",
    "Measures vegetation health using satellite data\n",
    "\n",
    "![image.png](attachment:c4c677de-5c9e-4f34-9e15-9bc0d1393863.png)\n",
    "\n",
    "Where:\n",
    "\n",
    "- NIR = Near-Infrared reflectance\n",
    "- Red = Red reflectance\n",
    "\n",
    "\n",
    "2. **Data Challenges**\n",
    "   \n",
    "- **Noise:** The main challenge with the dataset is that both the imagery and the crowdsourced data contain noise (due to cloud cover in the images and inaccurate labeling/digitizing of polygons).\n",
    "\n",
    "- **Missing Data:** Certain NDVI values are missing because of cloud cover obstructing the satellite view.\n",
    "\n",
    "- **Temporal Variations:** NDVI values vary seasonally, requiring careful feature engineering to extract meaningful trends."
   ]
  },
  {
   "cell_type": "markdown",
   "id": "187484a5",
   "metadata": {
    "papermill": {
     "duration": 0.006994,
     "end_time": "2025-06-14T13:28:42.840031",
     "exception": false,
     "start_time": "2025-06-14T13:28:42.833037",
     "status": "completed"
    },
    "tags": []
   },
   "source": [
    "## About the Data\n",
    "\n",
    "Each row in the dataset contains:\n",
    "\n",
    "- **class:** Ground truth label of the land cover type — one of {Water, Impervious, Farm, Forest, Grass, Orchard}\n",
    "\n",
    "- **ID:** Unique identifier for the sample\n",
    "\n",
    "- **27 NDVI Time Points:** Columns labeled in the format YYYYMMDD_N (e.g., 20150720_N, 20150602_N) represent NDVI values collected on different dates. These values form a time series representing vegetation dynamics for each location"
   ]
  },
  {
   "cell_type": "code",
   "execution_count": 1,
   "id": "318e8dfd",
   "metadata": {
    "_cell_guid": "b1076dfc-b9ad-4769-8c92-a6c4dae69d19",
    "_uuid": "8f2839f25d086af736a60e9eeb907d3b93b6e0e5",
    "execution": {
     "iopub.execute_input": "2025-06-14T13:28:42.855359Z",
     "iopub.status.busy": "2025-06-14T13:28:42.855043Z",
     "iopub.status.idle": "2025-06-14T13:28:46.736610Z",
     "shell.execute_reply": "2025-06-14T13:28:46.735655Z"
    },
    "papermill": {
     "duration": 3.89101,
     "end_time": "2025-06-14T13:28:46.738005",
     "exception": false,
     "start_time": "2025-06-14T13:28:42.846995",
     "status": "completed"
    },
    "tags": []
   },
   "outputs": [
    {
     "name": "stdout",
     "output_type": "stream",
     "text": [
      "/kaggle/input/summer-analytics-mid-hackathon/hacktest.csv\n",
      "/kaggle/input/summer-analytics-mid-hackathon/hacktrain.csv\n"
     ]
    }
   ],
   "source": [
    "import numpy as np # linear algebra\n",
    "import pandas as pd # data processing, CSV file I/O (e.g. pd.read_csv)\n",
    "import matplotlib.pyplot as plt\n",
    "import seaborn as sns\n",
    "\n",
    "# Input data files are available in the read-only \"../input/\" directory\n",
    "# For example, running this (by clicking run or pressing Shift+Enter) will list all files under the input directory\n",
    "\n",
    "import os\n",
    "for dirname, _, filenames in os.walk('/kaggle/input'):\n",
    "    for filename in filenames:\n",
    "        print(os.path.join(dirname, filename))"
   ]
  },
  {
   "cell_type": "markdown",
   "id": "4687803b",
   "metadata": {
    "papermill": {
     "duration": 0.00708,
     "end_time": "2025-06-14T13:28:46.752417",
     "exception": false,
     "start_time": "2025-06-14T13:28:46.745337",
     "status": "completed"
    },
    "tags": []
   },
   "source": [
    "Importing the training dataset:"
   ]
  },
  {
   "cell_type": "code",
   "execution_count": 2,
   "id": "eddb6cac",
   "metadata": {
    "execution": {
     "iopub.execute_input": "2025-06-14T13:28:46.767776Z",
     "iopub.status.busy": "2025-06-14T13:28:46.767385Z",
     "iopub.status.idle": "2025-06-14T13:28:46.876615Z",
     "shell.execute_reply": "2025-06-14T13:28:46.875616Z"
    },
    "papermill": {
     "duration": 0.118575,
     "end_time": "2025-06-14T13:28:46.877992",
     "exception": false,
     "start_time": "2025-06-14T13:28:46.759417",
     "status": "completed"
    },
    "tags": []
   },
   "outputs": [
    {
     "name": "stderr",
     "output_type": "stream",
     "text": [
      "/usr/local/lib/python3.11/dist-packages/pandas/io/formats/format.py:1458: RuntimeWarning: invalid value encountered in greater\n",
      "  has_large_values = (abs_vals > 1e6).any()\n",
      "/usr/local/lib/python3.11/dist-packages/pandas/io/formats/format.py:1459: RuntimeWarning: invalid value encountered in less\n",
      "  has_small_values = ((abs_vals < 10 ** (-self.digits)) & (abs_vals > 0)).any()\n",
      "/usr/local/lib/python3.11/dist-packages/pandas/io/formats/format.py:1459: RuntimeWarning: invalid value encountered in greater\n",
      "  has_small_values = ((abs_vals < 10 ** (-self.digits)) & (abs_vals > 0)).any()\n",
      "/usr/local/lib/python3.11/dist-packages/pandas/io/formats/format.py:1458: RuntimeWarning: invalid value encountered in greater\n",
      "  has_large_values = (abs_vals > 1e6).any()\n",
      "/usr/local/lib/python3.11/dist-packages/pandas/io/formats/format.py:1459: RuntimeWarning: invalid value encountered in less\n",
      "  has_small_values = ((abs_vals < 10 ** (-self.digits)) & (abs_vals > 0)).any()\n",
      "/usr/local/lib/python3.11/dist-packages/pandas/io/formats/format.py:1459: RuntimeWarning: invalid value encountered in greater\n",
      "  has_small_values = ((abs_vals < 10 ** (-self.digits)) & (abs_vals > 0)).any()\n"
     ]
    },
    {
     "data": {
      "text/html": [
       "<div>\n",
       "<style scoped>\n",
       "    .dataframe tbody tr th:only-of-type {\n",
       "        vertical-align: middle;\n",
       "    }\n",
       "\n",
       "    .dataframe tbody tr th {\n",
       "        vertical-align: top;\n",
       "    }\n",
       "\n",
       "    .dataframe thead th {\n",
       "        text-align: right;\n",
       "    }\n",
       "</style>\n",
       "<table border=\"1\" class=\"dataframe\">\n",
       "  <thead>\n",
       "    <tr style=\"text-align: right;\">\n",
       "      <th></th>\n",
       "      <th>Unnamed: 0</th>\n",
       "      <th>ID</th>\n",
       "      <th>class</th>\n",
       "      <th>20150720_N</th>\n",
       "      <th>20150602_N</th>\n",
       "      <th>20150517_N</th>\n",
       "      <th>20150501_N</th>\n",
       "      <th>20150415_N</th>\n",
       "      <th>20150330_N</th>\n",
       "      <th>20150314_N</th>\n",
       "      <th>...</th>\n",
       "      <th>20140610_N</th>\n",
       "      <th>20140525_N</th>\n",
       "      <th>20140509_N</th>\n",
       "      <th>20140423_N</th>\n",
       "      <th>20140407_N</th>\n",
       "      <th>20140322_N</th>\n",
       "      <th>20140218_N</th>\n",
       "      <th>20140202_N</th>\n",
       "      <th>20140117_N</th>\n",
       "      <th>20140101_N</th>\n",
       "    </tr>\n",
       "  </thead>\n",
       "  <tbody>\n",
       "    <tr>\n",
       "      <th>0</th>\n",
       "      <td>0</td>\n",
       "      <td>1</td>\n",
       "      <td>water</td>\n",
       "      <td>637.5950</td>\n",
       "      <td>658.668</td>\n",
       "      <td>-1882.030</td>\n",
       "      <td>-1924.36</td>\n",
       "      <td>997.904</td>\n",
       "      <td>-1739.990</td>\n",
       "      <td>630.087</td>\n",
       "      <td>...</td>\n",
       "      <td>NaN</td>\n",
       "      <td>-1043.160</td>\n",
       "      <td>-1942.490</td>\n",
       "      <td>267.138</td>\n",
       "      <td>NaN</td>\n",
       "      <td>NaN</td>\n",
       "      <td>211.328</td>\n",
       "      <td>-2203.020</td>\n",
       "      <td>-1180.19</td>\n",
       "      <td>433.906</td>\n",
       "    </tr>\n",
       "    <tr>\n",
       "      <th>1</th>\n",
       "      <td>1</td>\n",
       "      <td>2</td>\n",
       "      <td>water</td>\n",
       "      <td>634.2400</td>\n",
       "      <td>593.705</td>\n",
       "      <td>-1625.790</td>\n",
       "      <td>-1672.32</td>\n",
       "      <td>914.198</td>\n",
       "      <td>-692.386</td>\n",
       "      <td>707.626</td>\n",
       "      <td>...</td>\n",
       "      <td>NaN</td>\n",
       "      <td>-933.934</td>\n",
       "      <td>-625.385</td>\n",
       "      <td>120.059</td>\n",
       "      <td>364.858</td>\n",
       "      <td>476.972</td>\n",
       "      <td>220.878</td>\n",
       "      <td>-2250.000</td>\n",
       "      <td>-1360.56</td>\n",
       "      <td>524.075</td>\n",
       "    </tr>\n",
       "    <tr>\n",
       "      <th>2</th>\n",
       "      <td>3</td>\n",
       "      <td>4</td>\n",
       "      <td>water</td>\n",
       "      <td>58.0174</td>\n",
       "      <td>-1599.160</td>\n",
       "      <td>NaN</td>\n",
       "      <td>-1052.63</td>\n",
       "      <td>NaN</td>\n",
       "      <td>-1564.630</td>\n",
       "      <td>NaN</td>\n",
       "      <td>...</td>\n",
       "      <td>-1025.880</td>\n",
       "      <td>368.622</td>\n",
       "      <td>NaN</td>\n",
       "      <td>-1227.800</td>\n",
       "      <td>304.621</td>\n",
       "      <td>NaN</td>\n",
       "      <td>369.214</td>\n",
       "      <td>-2202.120</td>\n",
       "      <td>NaN</td>\n",
       "      <td>-1343.550</td>\n",
       "    </tr>\n",
       "    <tr>\n",
       "      <th>3</th>\n",
       "      <td>4</td>\n",
       "      <td>5</td>\n",
       "      <td>water</td>\n",
       "      <td>72.5180</td>\n",
       "      <td>NaN</td>\n",
       "      <td>380.436</td>\n",
       "      <td>-1256.93</td>\n",
       "      <td>515.805</td>\n",
       "      <td>-1413.180</td>\n",
       "      <td>-802.942</td>\n",
       "      <td>...</td>\n",
       "      <td>-1813.950</td>\n",
       "      <td>155.624</td>\n",
       "      <td>NaN</td>\n",
       "      <td>-924.073</td>\n",
       "      <td>432.150</td>\n",
       "      <td>282.833</td>\n",
       "      <td>298.320</td>\n",
       "      <td>-2197.360</td>\n",
       "      <td>NaN</td>\n",
       "      <td>-826.727</td>\n",
       "    </tr>\n",
       "    <tr>\n",
       "      <th>4</th>\n",
       "      <td>7</td>\n",
       "      <td>8</td>\n",
       "      <td>water</td>\n",
       "      <td>1136.4400</td>\n",
       "      <td>NaN</td>\n",
       "      <td>NaN</td>\n",
       "      <td>1647.83</td>\n",
       "      <td>1935.800</td>\n",
       "      <td>NaN</td>\n",
       "      <td>2158.980</td>\n",
       "      <td>...</td>\n",
       "      <td>1535.000</td>\n",
       "      <td>1959.430</td>\n",
       "      <td>-279.317</td>\n",
       "      <td>-384.915</td>\n",
       "      <td>-113.406</td>\n",
       "      <td>1020.720</td>\n",
       "      <td>1660.650</td>\n",
       "      <td>-116.801</td>\n",
       "      <td>-568.05</td>\n",
       "      <td>-1357.140</td>\n",
       "    </tr>\n",
       "    <tr>\n",
       "      <th>...</th>\n",
       "      <td>...</td>\n",
       "      <td>...</td>\n",
       "      <td>...</td>\n",
       "      <td>...</td>\n",
       "      <td>...</td>\n",
       "      <td>...</td>\n",
       "      <td>...</td>\n",
       "      <td>...</td>\n",
       "      <td>...</td>\n",
       "      <td>...</td>\n",
       "      <td>...</td>\n",
       "      <td>...</td>\n",
       "      <td>...</td>\n",
       "      <td>...</td>\n",
       "      <td>...</td>\n",
       "      <td>...</td>\n",
       "      <td>...</td>\n",
       "      <td>...</td>\n",
       "      <td>...</td>\n",
       "      <td>...</td>\n",
       "      <td>...</td>\n",
       "    </tr>\n",
       "    <tr>\n",
       "      <th>7995</th>\n",
       "      <td>10537</td>\n",
       "      <td>10538</td>\n",
       "      <td>impervious</td>\n",
       "      <td>1207.7000</td>\n",
       "      <td>984.620</td>\n",
       "      <td>NaN</td>\n",
       "      <td>1166.25</td>\n",
       "      <td>937.478</td>\n",
       "      <td>1072.700</td>\n",
       "      <td>823.896</td>\n",
       "      <td>...</td>\n",
       "      <td>1117.740</td>\n",
       "      <td>1176.600</td>\n",
       "      <td>1044.110</td>\n",
       "      <td>NaN</td>\n",
       "      <td>369.082</td>\n",
       "      <td>465.843</td>\n",
       "      <td>362.882</td>\n",
       "      <td>979.795</td>\n",
       "      <td>NaN</td>\n",
       "      <td>433.659</td>\n",
       "    </tr>\n",
       "    <tr>\n",
       "      <th>7996</th>\n",
       "      <td>10538</td>\n",
       "      <td>10539</td>\n",
       "      <td>impervious</td>\n",
       "      <td>2170.3500</td>\n",
       "      <td>1419.720</td>\n",
       "      <td>1361.000</td>\n",
       "      <td>1478.71</td>\n",
       "      <td>983.911</td>\n",
       "      <td>1262.110</td>\n",
       "      <td>1422.860</td>\n",
       "      <td>...</td>\n",
       "      <td>984.634</td>\n",
       "      <td>2128.970</td>\n",
       "      <td>1379.660</td>\n",
       "      <td>NaN</td>\n",
       "      <td>762.633</td>\n",
       "      <td>485.204</td>\n",
       "      <td>446.724</td>\n",
       "      <td>771.747</td>\n",
       "      <td>1589.06</td>\n",
       "      <td>506.936</td>\n",
       "    </tr>\n",
       "    <tr>\n",
       "      <th>7997</th>\n",
       "      <td>10541</td>\n",
       "      <td>10542</td>\n",
       "      <td>impervious</td>\n",
       "      <td>1895.6800</td>\n",
       "      <td>1454.740</td>\n",
       "      <td>NaN</td>\n",
       "      <td>1033.56</td>\n",
       "      <td>1930.380</td>\n",
       "      <td>1057.150</td>\n",
       "      <td>1471.600</td>\n",
       "      <td>...</td>\n",
       "      <td>888.408</td>\n",
       "      <td>2093.020</td>\n",
       "      <td>1232.110</td>\n",
       "      <td>1190.830</td>\n",
       "      <td>1441.460</td>\n",
       "      <td>1170.880</td>\n",
       "      <td>1095.000</td>\n",
       "      <td>1818.650</td>\n",
       "      <td>2501.72</td>\n",
       "      <td>1247.770</td>\n",
       "    </tr>\n",
       "    <tr>\n",
       "      <th>7998</th>\n",
       "      <td>10542</td>\n",
       "      <td>10543</td>\n",
       "      <td>impervious</td>\n",
       "      <td>3465.7400</td>\n",
       "      <td>1283.320</td>\n",
       "      <td>413.412</td>\n",
       "      <td>4391.05</td>\n",
       "      <td>1146.820</td>\n",
       "      <td>4473.050</td>\n",
       "      <td>1614.750</td>\n",
       "      <td>...</td>\n",
       "      <td>5833.760</td>\n",
       "      <td>4047.320</td>\n",
       "      <td>4515.800</td>\n",
       "      <td>433.177</td>\n",
       "      <td>277.296</td>\n",
       "      <td>744.143</td>\n",
       "      <td>NaN</td>\n",
       "      <td>3759.710</td>\n",
       "      <td>NaN</td>\n",
       "      <td>388.346</td>\n",
       "    </tr>\n",
       "    <tr>\n",
       "      <th>7999</th>\n",
       "      <td>10544</td>\n",
       "      <td>10545</td>\n",
       "      <td>impervious</td>\n",
       "      <td>6941.1900</td>\n",
       "      <td>1667.870</td>\n",
       "      <td>5084.780</td>\n",
       "      <td>NaN</td>\n",
       "      <td>1588.950</td>\n",
       "      <td>5978.190</td>\n",
       "      <td>NaN</td>\n",
       "      <td>...</td>\n",
       "      <td>7352.570</td>\n",
       "      <td>3289.860</td>\n",
       "      <td>3729.150</td>\n",
       "      <td>1994.980</td>\n",
       "      <td>NaN</td>\n",
       "      <td>5299.900</td>\n",
       "      <td>NaN</td>\n",
       "      <td>5983.130</td>\n",
       "      <td>1249.71</td>\n",
       "      <td>2424.230</td>\n",
       "    </tr>\n",
       "  </tbody>\n",
       "</table>\n",
       "<p>8000 rows × 30 columns</p>\n",
       "</div>"
      ],
      "text/plain": [
       "      Unnamed: 0     ID       class  20150720_N  20150602_N  20150517_N  \\\n",
       "0              0      1       water    637.5950     658.668   -1882.030   \n",
       "1              1      2       water    634.2400     593.705   -1625.790   \n",
       "2              3      4       water     58.0174   -1599.160         NaN   \n",
       "3              4      5       water     72.5180         NaN     380.436   \n",
       "4              7      8       water   1136.4400         NaN         NaN   \n",
       "...          ...    ...         ...         ...         ...         ...   \n",
       "7995       10537  10538  impervious   1207.7000     984.620         NaN   \n",
       "7996       10538  10539  impervious   2170.3500    1419.720    1361.000   \n",
       "7997       10541  10542  impervious   1895.6800    1454.740         NaN   \n",
       "7998       10542  10543  impervious   3465.7400    1283.320     413.412   \n",
       "7999       10544  10545  impervious   6941.1900    1667.870    5084.780   \n",
       "\n",
       "      20150501_N  20150415_N  20150330_N  20150314_N  ...  20140610_N  \\\n",
       "0       -1924.36     997.904   -1739.990     630.087  ...         NaN   \n",
       "1       -1672.32     914.198    -692.386     707.626  ...         NaN   \n",
       "2       -1052.63         NaN   -1564.630         NaN  ...   -1025.880   \n",
       "3       -1256.93     515.805   -1413.180    -802.942  ...   -1813.950   \n",
       "4        1647.83    1935.800         NaN    2158.980  ...    1535.000   \n",
       "...          ...         ...         ...         ...  ...         ...   \n",
       "7995     1166.25     937.478    1072.700     823.896  ...    1117.740   \n",
       "7996     1478.71     983.911    1262.110    1422.860  ...     984.634   \n",
       "7997     1033.56    1930.380    1057.150    1471.600  ...     888.408   \n",
       "7998     4391.05    1146.820    4473.050    1614.750  ...    5833.760   \n",
       "7999         NaN    1588.950    5978.190         NaN  ...    7352.570   \n",
       "\n",
       "      20140525_N  20140509_N  20140423_N  20140407_N  20140322_N  20140218_N  \\\n",
       "0      -1043.160   -1942.490     267.138         NaN         NaN     211.328   \n",
       "1       -933.934    -625.385     120.059     364.858     476.972     220.878   \n",
       "2        368.622         NaN   -1227.800     304.621         NaN     369.214   \n",
       "3        155.624         NaN    -924.073     432.150     282.833     298.320   \n",
       "4       1959.430    -279.317    -384.915    -113.406    1020.720    1660.650   \n",
       "...          ...         ...         ...         ...         ...         ...   \n",
       "7995    1176.600    1044.110         NaN     369.082     465.843     362.882   \n",
       "7996    2128.970    1379.660         NaN     762.633     485.204     446.724   \n",
       "7997    2093.020    1232.110    1190.830    1441.460    1170.880    1095.000   \n",
       "7998    4047.320    4515.800     433.177     277.296     744.143         NaN   \n",
       "7999    3289.860    3729.150    1994.980         NaN    5299.900         NaN   \n",
       "\n",
       "      20140202_N  20140117_N  20140101_N  \n",
       "0      -2203.020    -1180.19     433.906  \n",
       "1      -2250.000    -1360.56     524.075  \n",
       "2      -2202.120         NaN   -1343.550  \n",
       "3      -2197.360         NaN    -826.727  \n",
       "4       -116.801     -568.05   -1357.140  \n",
       "...          ...         ...         ...  \n",
       "7995     979.795         NaN     433.659  \n",
       "7996     771.747     1589.06     506.936  \n",
       "7997    1818.650     2501.72    1247.770  \n",
       "7998    3759.710         NaN     388.346  \n",
       "7999    5983.130     1249.71    2424.230  \n",
       "\n",
       "[8000 rows x 30 columns]"
      ]
     },
     "execution_count": 2,
     "metadata": {},
     "output_type": "execute_result"
    }
   ],
   "source": [
    "df = pd.read_csv(\"/kaggle/input/summer-analytics-mid-hackathon/hacktrain.csv\")\n",
    "df #ignore the warnings"
   ]
  },
  {
   "cell_type": "code",
   "execution_count": 3,
   "id": "9ce963c3",
   "metadata": {
    "execution": {
     "iopub.execute_input": "2025-06-14T13:28:46.895069Z",
     "iopub.status.busy": "2025-06-14T13:28:46.894720Z",
     "iopub.status.idle": "2025-06-14T13:28:46.902244Z",
     "shell.execute_reply": "2025-06-14T13:28:46.901367Z"
    },
    "papermill": {
     "duration": 0.017416,
     "end_time": "2025-06-14T13:28:46.903654",
     "exception": false,
     "start_time": "2025-06-14T13:28:46.886238",
     "status": "completed"
    },
    "tags": []
   },
   "outputs": [
    {
     "data": {
      "text/plain": [
       "Index(['Unnamed: 0', 'ID', 'class', '20150720_N', '20150602_N', '20150517_N',\n",
       "       '20150501_N', '20150415_N', '20150330_N', '20150314_N', '20150226_N',\n",
       "       '20150210_N', '20150125_N', '20150109_N', '20141117_N', '20141101_N',\n",
       "       '20141016_N', '20140930_N', '20140813_N', '20140626_N', '20140610_N',\n",
       "       '20140525_N', '20140509_N', '20140423_N', '20140407_N', '20140322_N',\n",
       "       '20140218_N', '20140202_N', '20140117_N', '20140101_N'],\n",
       "      dtype='object')"
      ]
     },
     "execution_count": 3,
     "metadata": {},
     "output_type": "execute_result"
    }
   ],
   "source": [
    "df.columns"
   ]
  },
  {
   "cell_type": "code",
   "execution_count": 4,
   "id": "67cd33a2",
   "metadata": {
    "execution": {
     "iopub.execute_input": "2025-06-14T13:28:46.920540Z",
     "iopub.status.busy": "2025-06-14T13:28:46.919802Z",
     "iopub.status.idle": "2025-06-14T13:28:46.925319Z",
     "shell.execute_reply": "2025-06-14T13:28:46.924449Z"
    },
    "papermill": {
     "duration": 0.015186,
     "end_time": "2025-06-14T13:28:46.926609",
     "exception": false,
     "start_time": "2025-06-14T13:28:46.911423",
     "status": "completed"
    },
    "tags": []
   },
   "outputs": [
    {
     "data": {
      "text/plain": [
       "(8000, 30)"
      ]
     },
     "execution_count": 4,
     "metadata": {},
     "output_type": "execute_result"
    }
   ],
   "source": [
    "df.shape"
   ]
  },
  {
   "cell_type": "code",
   "execution_count": 5,
   "id": "05f5451e",
   "metadata": {
    "execution": {
     "iopub.execute_input": "2025-06-14T13:28:46.943328Z",
     "iopub.status.busy": "2025-06-14T13:28:46.942659Z",
     "iopub.status.idle": "2025-06-14T13:28:46.965816Z",
     "shell.execute_reply": "2025-06-14T13:28:46.964747Z"
    },
    "papermill": {
     "duration": 0.033126,
     "end_time": "2025-06-14T13:28:46.967449",
     "exception": false,
     "start_time": "2025-06-14T13:28:46.934323",
     "status": "completed"
    },
    "tags": []
   },
   "outputs": [
    {
     "name": "stdout",
     "output_type": "stream",
     "text": [
      "<class 'pandas.core.frame.DataFrame'>\n",
      "RangeIndex: 8000 entries, 0 to 7999\n",
      "Data columns (total 30 columns):\n",
      " #   Column      Non-Null Count  Dtype  \n",
      "---  ------      --------------  -----  \n",
      " 0   Unnamed: 0  8000 non-null   int64  \n",
      " 1   ID          8000 non-null   int64  \n",
      " 2   class       8000 non-null   object \n",
      " 3   20150720_N  7440 non-null   float64\n",
      " 4   20150602_N  6800 non-null   float64\n",
      " 5   20150517_N  7200 non-null   float64\n",
      " 6   20150501_N  7040 non-null   float64\n",
      " 7   20150415_N  7520 non-null   float64\n",
      " 8   20150330_N  6880 non-null   float64\n",
      " 9   20150314_N  7280 non-null   float64\n",
      " 10  20150226_N  6640 non-null   float64\n",
      " 11  20150210_N  7360 non-null   float64\n",
      " 12  20150125_N  6960 non-null   float64\n",
      " 13  20150109_N  7120 non-null   float64\n",
      " 14  20141117_N  6720 non-null   float64\n",
      " 15  20141101_N  7600 non-null   float64\n",
      " 16  20141016_N  6560 non-null   float64\n",
      " 17  20140930_N  7200 non-null   float64\n",
      " 18  20140813_N  7440 non-null   float64\n",
      " 19  20140626_N  6400 non-null   float64\n",
      " 20  20140610_N  7520 non-null   float64\n",
      " 21  20140525_N  7280 non-null   float64\n",
      " 22  20140509_N  7120 non-null   float64\n",
      " 23  20140423_N  6240 non-null   float64\n",
      " 24  20140407_N  7360 non-null   float64\n",
      " 25  20140322_N  6880 non-null   float64\n",
      " 26  20140218_N  6560 non-null   float64\n",
      " 27  20140202_N  7440 non-null   float64\n",
      " 28  20140117_N  6800 non-null   float64\n",
      " 29  20140101_N  7600 non-null   float64\n",
      "dtypes: float64(27), int64(2), object(1)\n",
      "memory usage: 1.8+ MB\n"
     ]
    }
   ],
   "source": [
    "df.info()"
   ]
  },
  {
   "cell_type": "code",
   "execution_count": 6,
   "id": "4293b3dd",
   "metadata": {
    "execution": {
     "iopub.execute_input": "2025-06-14T13:28:46.984566Z",
     "iopub.status.busy": "2025-06-14T13:28:46.984263Z",
     "iopub.status.idle": "2025-06-14T13:28:47.065764Z",
     "shell.execute_reply": "2025-06-14T13:28:47.065013Z"
    },
    "papermill": {
     "duration": 0.091573,
     "end_time": "2025-06-14T13:28:47.067131",
     "exception": false,
     "start_time": "2025-06-14T13:28:46.975558",
     "status": "completed"
    },
    "tags": []
   },
   "outputs": [
    {
     "data": {
      "text/html": [
       "<div>\n",
       "<style scoped>\n",
       "    .dataframe tbody tr th:only-of-type {\n",
       "        vertical-align: middle;\n",
       "    }\n",
       "\n",
       "    .dataframe tbody tr th {\n",
       "        vertical-align: top;\n",
       "    }\n",
       "\n",
       "    .dataframe thead th {\n",
       "        text-align: right;\n",
       "    }\n",
       "</style>\n",
       "<table border=\"1\" class=\"dataframe\">\n",
       "  <thead>\n",
       "    <tr style=\"text-align: right;\">\n",
       "      <th></th>\n",
       "      <th>Unnamed: 0</th>\n",
       "      <th>ID</th>\n",
       "      <th>20150720_N</th>\n",
       "      <th>20150602_N</th>\n",
       "      <th>20150517_N</th>\n",
       "      <th>20150501_N</th>\n",
       "      <th>20150415_N</th>\n",
       "      <th>20150330_N</th>\n",
       "      <th>20150314_N</th>\n",
       "      <th>20150226_N</th>\n",
       "      <th>...</th>\n",
       "      <th>20140610_N</th>\n",
       "      <th>20140525_N</th>\n",
       "      <th>20140509_N</th>\n",
       "      <th>20140423_N</th>\n",
       "      <th>20140407_N</th>\n",
       "      <th>20140322_N</th>\n",
       "      <th>20140218_N</th>\n",
       "      <th>20140202_N</th>\n",
       "      <th>20140117_N</th>\n",
       "      <th>20140101_N</th>\n",
       "    </tr>\n",
       "  </thead>\n",
       "  <tbody>\n",
       "    <tr>\n",
       "      <th>count</th>\n",
       "      <td>8000.000000</td>\n",
       "      <td>8000.000000</td>\n",
       "      <td>7440.000000</td>\n",
       "      <td>6800.000000</td>\n",
       "      <td>7200.000000</td>\n",
       "      <td>7040.000000</td>\n",
       "      <td>7520.000000</td>\n",
       "      <td>6880.000000</td>\n",
       "      <td>7280.000000</td>\n",
       "      <td>6640.000000</td>\n",
       "      <td>...</td>\n",
       "      <td>7520.000000</td>\n",
       "      <td>7280.000000</td>\n",
       "      <td>7120.000000</td>\n",
       "      <td>6240.000000</td>\n",
       "      <td>7360.000000</td>\n",
       "      <td>6880.000000</td>\n",
       "      <td>6560.000000</td>\n",
       "      <td>7440.000000</td>\n",
       "      <td>6800.000000</td>\n",
       "      <td>7600.000000</td>\n",
       "    </tr>\n",
       "    <tr>\n",
       "      <th>mean</th>\n",
       "      <td>4984.202625</td>\n",
       "      <td>4985.202625</td>\n",
       "      <td>5845.476916</td>\n",
       "      <td>4868.091395</td>\n",
       "      <td>4469.837748</td>\n",
       "      <td>5193.485086</td>\n",
       "      <td>2927.586705</td>\n",
       "      <td>4924.493648</td>\n",
       "      <td>3313.881373</td>\n",
       "      <td>4987.520158</td>\n",
       "      <td>...</td>\n",
       "      <td>4872.681670</td>\n",
       "      <td>3674.886731</td>\n",
       "      <td>3012.178524</td>\n",
       "      <td>3055.167358</td>\n",
       "      <td>2041.316792</td>\n",
       "      <td>2799.820342</td>\n",
       "      <td>2144.360224</td>\n",
       "      <td>6259.064275</td>\n",
       "      <td>2629.203972</td>\n",
       "      <td>2578.449870</td>\n",
       "    </tr>\n",
       "    <tr>\n",
       "      <th>std</th>\n",
       "      <td>2900.022898</td>\n",
       "      <td>2900.022898</td>\n",
       "      <td>2261.409128</td>\n",
       "      <td>2758.499942</td>\n",
       "      <td>2876.218394</td>\n",
       "      <td>2510.389832</td>\n",
       "      <td>2728.325670</td>\n",
       "      <td>2600.418802</td>\n",
       "      <td>2434.828743</td>\n",
       "      <td>2674.963286</td>\n",
       "      <td>...</td>\n",
       "      <td>2776.135418</td>\n",
       "      <td>2331.105635</td>\n",
       "      <td>2068.334108</td>\n",
       "      <td>2209.985887</td>\n",
       "      <td>2040.354512</td>\n",
       "      <td>2452.563243</td>\n",
       "      <td>2267.606759</td>\n",
       "      <td>1825.563702</td>\n",
       "      <td>2386.147667</td>\n",
       "      <td>2436.270797</td>\n",
       "    </tr>\n",
       "    <tr>\n",
       "      <th>min</th>\n",
       "      <td>0.000000</td>\n",
       "      <td>1.000000</td>\n",
       "      <td>-433.735000</td>\n",
       "      <td>-1781.790000</td>\n",
       "      <td>-2939.740000</td>\n",
       "      <td>-1924.360000</td>\n",
       "      <td>-1794.870000</td>\n",
       "      <td>-1848.910000</td>\n",
       "      <td>-1574.970000</td>\n",
       "      <td>-2532.490000</td>\n",
       "      <td>...</td>\n",
       "      <td>-2683.600000</td>\n",
       "      <td>-1043.160000</td>\n",
       "      <td>-2435.900000</td>\n",
       "      <td>-1505.780000</td>\n",
       "      <td>-1445.370000</td>\n",
       "      <td>55.564100</td>\n",
       "      <td>-232.292000</td>\n",
       "      <td>-2729.430000</td>\n",
       "      <td>-2139.860000</td>\n",
       "      <td>-4145.250000</td>\n",
       "    </tr>\n",
       "    <tr>\n",
       "      <th>25%</th>\n",
       "      <td>2514.750000</td>\n",
       "      <td>2515.750000</td>\n",
       "      <td>4331.232500</td>\n",
       "      <td>2067.265000</td>\n",
       "      <td>1521.195000</td>\n",
       "      <td>3087.072500</td>\n",
       "      <td>500.515750</td>\n",
       "      <td>2398.385000</td>\n",
       "      <td>992.778250</td>\n",
       "      <td>2404.075000</td>\n",
       "      <td>...</td>\n",
       "      <td>2010.732500</td>\n",
       "      <td>1369.355000</td>\n",
       "      <td>1368.742500</td>\n",
       "      <td>1009.827500</td>\n",
       "      <td>419.987000</td>\n",
       "      <td>791.741250</td>\n",
       "      <td>501.602750</td>\n",
       "      <td>5938.257500</td>\n",
       "      <td>691.171500</td>\n",
       "      <td>689.199000</td>\n",
       "    </tr>\n",
       "    <tr>\n",
       "      <th>50%</th>\n",
       "      <td>4917.500000</td>\n",
       "      <td>4918.500000</td>\n",
       "      <td>6908.255000</td>\n",
       "      <td>5513.375000</td>\n",
       "      <td>4672.000000</td>\n",
       "      <td>5810.755000</td>\n",
       "      <td>1586.240000</td>\n",
       "      <td>5742.485000</td>\n",
       "      <td>2802.010000</td>\n",
       "      <td>5831.120000</td>\n",
       "      <td>...</td>\n",
       "      <td>5484.905000</td>\n",
       "      <td>3659.770000</td>\n",
       "      <td>2633.695000</td>\n",
       "      <td>2624.125000</td>\n",
       "      <td>1183.715000</td>\n",
       "      <td>1599.385000</td>\n",
       "      <td>969.711500</td>\n",
       "      <td>6941.010000</td>\n",
       "      <td>1521.210000</td>\n",
       "      <td>1439.950000</td>\n",
       "    </tr>\n",
       "    <tr>\n",
       "      <th>75%</th>\n",
       "      <td>7311.250000</td>\n",
       "      <td>7312.250000</td>\n",
       "      <td>7626.845000</td>\n",
       "      <td>7555.570000</td>\n",
       "      <td>7431.697500</td>\n",
       "      <td>7511.880000</td>\n",
       "      <td>5703.067500</td>\n",
       "      <td>7280.110000</td>\n",
       "      <td>5508.350000</td>\n",
       "      <td>7430.915000</td>\n",
       "      <td>...</td>\n",
       "      <td>7607.755000</td>\n",
       "      <td>5927.035000</td>\n",
       "      <td>4128.082500</td>\n",
       "      <td>4952.317500</td>\n",
       "      <td>3075.997500</td>\n",
       "      <td>4909.997500</td>\n",
       "      <td>3227.380000</td>\n",
       "      <td>7395.612500</td>\n",
       "      <td>4452.257500</td>\n",
       "      <td>4146.342500</td>\n",
       "    </tr>\n",
       "    <tr>\n",
       "      <th>max</th>\n",
       "      <td>10544.000000</td>\n",
       "      <td>10545.000000</td>\n",
       "      <td>8376.150000</td>\n",
       "      <td>8566.420000</td>\n",
       "      <td>8650.500000</td>\n",
       "      <td>8516.100000</td>\n",
       "      <td>8267.120000</td>\n",
       "      <td>8499.330000</td>\n",
       "      <td>8001.700000</td>\n",
       "      <td>8452.380000</td>\n",
       "      <td>...</td>\n",
       "      <td>8489.970000</td>\n",
       "      <td>7981.820000</td>\n",
       "      <td>8445.410000</td>\n",
       "      <td>7762.980000</td>\n",
       "      <td>8078.080000</td>\n",
       "      <td>8216.700000</td>\n",
       "      <td>8247.630000</td>\n",
       "      <td>8410.330000</td>\n",
       "      <td>8418.230000</td>\n",
       "      <td>8502.020000</td>\n",
       "    </tr>\n",
       "  </tbody>\n",
       "</table>\n",
       "<p>8 rows × 29 columns</p>\n",
       "</div>"
      ],
      "text/plain": [
       "         Unnamed: 0            ID   20150720_N   20150602_N   20150517_N  \\\n",
       "count   8000.000000   8000.000000  7440.000000  6800.000000  7200.000000   \n",
       "mean    4984.202625   4985.202625  5845.476916  4868.091395  4469.837748   \n",
       "std     2900.022898   2900.022898  2261.409128  2758.499942  2876.218394   \n",
       "min        0.000000      1.000000  -433.735000 -1781.790000 -2939.740000   \n",
       "25%     2514.750000   2515.750000  4331.232500  2067.265000  1521.195000   \n",
       "50%     4917.500000   4918.500000  6908.255000  5513.375000  4672.000000   \n",
       "75%     7311.250000   7312.250000  7626.845000  7555.570000  7431.697500   \n",
       "max    10544.000000  10545.000000  8376.150000  8566.420000  8650.500000   \n",
       "\n",
       "        20150501_N   20150415_N   20150330_N   20150314_N   20150226_N  ...  \\\n",
       "count  7040.000000  7520.000000  6880.000000  7280.000000  6640.000000  ...   \n",
       "mean   5193.485086  2927.586705  4924.493648  3313.881373  4987.520158  ...   \n",
       "std    2510.389832  2728.325670  2600.418802  2434.828743  2674.963286  ...   \n",
       "min   -1924.360000 -1794.870000 -1848.910000 -1574.970000 -2532.490000  ...   \n",
       "25%    3087.072500   500.515750  2398.385000   992.778250  2404.075000  ...   \n",
       "50%    5810.755000  1586.240000  5742.485000  2802.010000  5831.120000  ...   \n",
       "75%    7511.880000  5703.067500  7280.110000  5508.350000  7430.915000  ...   \n",
       "max    8516.100000  8267.120000  8499.330000  8001.700000  8452.380000  ...   \n",
       "\n",
       "        20140610_N   20140525_N   20140509_N   20140423_N   20140407_N  \\\n",
       "count  7520.000000  7280.000000  7120.000000  6240.000000  7360.000000   \n",
       "mean   4872.681670  3674.886731  3012.178524  3055.167358  2041.316792   \n",
       "std    2776.135418  2331.105635  2068.334108  2209.985887  2040.354512   \n",
       "min   -2683.600000 -1043.160000 -2435.900000 -1505.780000 -1445.370000   \n",
       "25%    2010.732500  1369.355000  1368.742500  1009.827500   419.987000   \n",
       "50%    5484.905000  3659.770000  2633.695000  2624.125000  1183.715000   \n",
       "75%    7607.755000  5927.035000  4128.082500  4952.317500  3075.997500   \n",
       "max    8489.970000  7981.820000  8445.410000  7762.980000  8078.080000   \n",
       "\n",
       "        20140322_N   20140218_N   20140202_N   20140117_N   20140101_N  \n",
       "count  6880.000000  6560.000000  7440.000000  6800.000000  7600.000000  \n",
       "mean   2799.820342  2144.360224  6259.064275  2629.203972  2578.449870  \n",
       "std    2452.563243  2267.606759  1825.563702  2386.147667  2436.270797  \n",
       "min      55.564100  -232.292000 -2729.430000 -2139.860000 -4145.250000  \n",
       "25%     791.741250   501.602750  5938.257500   691.171500   689.199000  \n",
       "50%    1599.385000   969.711500  6941.010000  1521.210000  1439.950000  \n",
       "75%    4909.997500  3227.380000  7395.612500  4452.257500  4146.342500  \n",
       "max    8216.700000  8247.630000  8410.330000  8418.230000  8502.020000  \n",
       "\n",
       "[8 rows x 29 columns]"
      ]
     },
     "execution_count": 6,
     "metadata": {},
     "output_type": "execute_result"
    }
   ],
   "source": [
    "df.describe()"
   ]
  },
  {
   "cell_type": "code",
   "execution_count": 7,
   "id": "b6c503dd",
   "metadata": {
    "execution": {
     "iopub.execute_input": "2025-06-14T13:28:47.085414Z",
     "iopub.status.busy": "2025-06-14T13:28:47.085036Z",
     "iopub.status.idle": "2025-06-14T13:28:47.092259Z",
     "shell.execute_reply": "2025-06-14T13:28:47.091526Z"
    },
    "papermill": {
     "duration": 0.01815,
     "end_time": "2025-06-14T13:28:47.093539",
     "exception": false,
     "start_time": "2025-06-14T13:28:47.075389",
     "status": "completed"
    },
    "tags": []
   },
   "outputs": [
    {
     "data": {
      "text/plain": [
       "25040"
      ]
     },
     "execution_count": 7,
     "metadata": {},
     "output_type": "execute_result"
    }
   ],
   "source": [
    "df.isnull().sum().sum()"
   ]
  },
  {
   "cell_type": "markdown",
   "id": "c2ab794b",
   "metadata": {
    "papermill": {
     "duration": 0.007802,
     "end_time": "2025-06-14T13:28:47.109470",
     "exception": false,
     "start_time": "2025-06-14T13:28:47.101668",
     "status": "completed"
    },
    "tags": []
   },
   "source": [
    "## Data Visualization"
   ]
  },
  {
   "cell_type": "code",
   "execution_count": 8,
   "id": "a88ee35a",
   "metadata": {
    "execution": {
     "iopub.execute_input": "2025-06-14T13:28:47.126739Z",
     "iopub.status.busy": "2025-06-14T13:28:47.126428Z",
     "iopub.status.idle": "2025-06-14T13:28:47.448931Z",
     "shell.execute_reply": "2025-06-14T13:28:47.448149Z"
    },
    "papermill": {
     "duration": 0.332915,
     "end_time": "2025-06-14T13:28:47.450373",
     "exception": false,
     "start_time": "2025-06-14T13:28:47.117458",
     "status": "completed"
    },
    "tags": []
   },
   "outputs": [
    {
     "data": {
      "text/plain": [
       "Text(0, 0.5, 'Land Cover Class')"
      ]
     },
     "execution_count": 8,
     "metadata": {},
     "output_type": "execute_result"
    },
    {
     "data": {
      "image/png": "[encoded data removed]",
      "text/plain": [
       "<Figure size 640x480 with 1 Axes>"
      ]
     },
     "metadata": {},
     "output_type": "display_data"
    }
   ],
   "source": [
    "sns.countplot(data=df, x='class')\n",
    "plt.title('Count Distribution')\n",
    "plt.xlabel(\"Count\")\n",
    "plt.ylabel(\"Land Cover Class\")"
   ]
  },
  {
   "cell_type": "code",
   "execution_count": 9,
   "id": "086ee3b2",
   "metadata": {
    "execution": {
     "iopub.execute_input": "2025-06-14T13:28:47.470085Z",
     "iopub.status.busy": "2025-06-14T13:28:47.469744Z",
     "iopub.status.idle": "2025-06-14T13:28:48.097649Z",
     "shell.execute_reply": "2025-06-14T13:28:48.096660Z"
    },
    "papermill": {
     "duration": 0.6396,
     "end_time": "2025-06-14T13:28:48.099409",
     "exception": false,
     "start_time": "2025-06-14T13:28:47.459809",
     "status": "completed"
    },
    "tags": []
   },
   "outputs": [
    {
     "data": {
      "text/plain": [
       "Text(0, 0.5, 'NDVI')"
      ]
     },
     "execution_count": 9,
     "metadata": {},
     "output_type": "execute_result"
    },
    {
     "data": {
      "image/png": "[encoded data removed]",
      "text/plain": [
       "<Figure size 2500x800 with 1 Axes>"
      ]
     },
     "metadata": {},
     "output_type": "display_data"
    }
   ],
   "source": [
    "plt.figure(figsize=(25,8))\n",
    "sns.boxplot(df.drop(columns=['Unnamed: 0', 'ID', 'class']))\n",
    "plt.title('NDVI across Dates')\n",
    "plt.ylabel('NDVI')"
   ]
  },
  {
   "cell_type": "code",
   "execution_count": 10,
   "id": "dc2fdebc",
   "metadata": {
    "execution": {
     "iopub.execute_input": "2025-06-14T13:28:48.121927Z",
     "iopub.status.busy": "2025-06-14T13:28:48.121055Z",
     "iopub.status.idle": "2025-06-14T13:28:48.834225Z",
     "shell.execute_reply": "2025-06-14T13:28:48.833168Z"
    },
    "papermill": {
     "duration": 0.726403,
     "end_time": "2025-06-14T13:28:48.836542",
     "exception": false,
     "start_time": "2025-06-14T13:28:48.110139",
     "status": "completed"
    },
    "tags": []
   },
   "outputs": [
    {
     "data": {
      "text/plain": [
       "Text(0.5, 1.0, 'Correlation Heatmap of NDVI Time Points')"
      ]
     },
     "execution_count": 10,
     "metadata": {},
     "output_type": "execute_result"
    },
    {
     "data": {
      "image/png": "[encoded data removed]",
      "text/plain": [
       "<Figure size 1200x1000 with 2 Axes>"
      ]
     },
     "metadata": {},
     "output_type": "display_data"
    }
   ],
   "source": [
    "plt.figure(figsize=(12, 10))\n",
    "sns.heatmap(df.drop(columns=['Unnamed: 0', 'ID', 'class']).corr())\n",
    "plt.title('Correlation Heatmap of NDVI Time Points')"
   ]
  },
  {
   "cell_type": "markdown",
   "id": "d313dc17",
   "metadata": {
    "papermill": {
     "duration": 0.011967,
     "end_time": "2025-06-14T13:28:48.860646",
     "exception": false,
     "start_time": "2025-06-14T13:28:48.848679",
     "status": "completed"
    },
    "tags": []
   },
   "source": [
    "## Model Building"
   ]
  },
  {
   "cell_type": "markdown",
   "id": "6140e5ec",
   "metadata": {
    "papermill": {
     "duration": 0.011761,
     "end_time": "2025-06-14T13:28:48.884914",
     "exception": false,
     "start_time": "2025-06-14T13:28:48.873153",
     "status": "completed"
    },
    "tags": []
   },
   "source": [
    "Importing relevant libraries:"
   ]
  },
  {
   "cell_type": "code",
   "execution_count": 11,
   "id": "31bc8560",
   "metadata": {
    "execution": {
     "iopub.execute_input": "2025-06-14T13:28:48.977599Z",
     "iopub.status.busy": "2025-06-14T13:28:48.977151Z",
     "iopub.status.idle": "2025-06-14T13:28:49.567122Z",
     "shell.execute_reply": "2025-06-14T13:28:49.566050Z"
    },
    "papermill": {
     "duration": 0.605043,
     "end_time": "2025-06-14T13:28:49.569108",
     "exception": false,
     "start_time": "2025-06-14T13:28:48.964065",
     "status": "completed"
    },
    "tags": []
   },
   "outputs": [],
   "source": [
    "from sklearn.linear_model import LogisticRegression\n",
    "from sklearn.model_selection import train_test_split\n",
    "from sklearn.preprocessing import LabelEncoder, StandardScaler\n",
    "from sklearn.impute import SimpleImputer\n",
    "from sklearn.metrics import classification_report, accuracy_score"
   ]
  },
  {
   "cell_type": "markdown",
   "id": "f2e1d28a",
   "metadata": {
    "papermill": {
     "duration": 0.012013,
     "end_time": "2025-06-14T13:28:49.593603",
     "exception": false,
     "start_time": "2025-06-14T13:28:49.581590",
     "status": "completed"
    },
    "tags": []
   },
   "source": [
    "Splitting into features and target"
   ]
  },
  {
   "cell_type": "code",
   "execution_count": 12,
   "id": "1de3ba95",
   "metadata": {
    "execution": {
     "iopub.execute_input": "2025-06-14T13:28:49.619852Z",
     "iopub.status.busy": "2025-06-14T13:28:49.619520Z",
     "iopub.status.idle": "2025-06-14T13:28:49.625754Z",
     "shell.execute_reply": "2025-06-14T13:28:49.625007Z"
    },
    "papermill": {
     "duration": 0.021169,
     "end_time": "2025-06-14T13:28:49.627373",
     "exception": false,
     "start_time": "2025-06-14T13:28:49.606204",
     "status": "completed"
    },
    "tags": []
   },
   "outputs": [],
   "source": [
    "X = df.drop(columns=['Unnamed: 0', 'ID', 'class'])\n",
    "y = df['class']"
   ]
  },
  {
   "cell_type": "markdown",
   "id": "837d3001",
   "metadata": {
    "papermill": {
     "duration": 0.011881,
     "end_time": "2025-06-14T13:28:49.651144",
     "exception": false,
     "start_time": "2025-06-14T13:28:49.639263",
     "status": "completed"
    },
    "tags": []
   },
   "source": [
    "### Data Pre-Processing"
   ]
  },
  {
   "cell_type": "markdown",
   "id": "d7fb23ba",
   "metadata": {
    "papermill": {
     "duration": 0.011849,
     "end_time": "2025-06-14T13:28:49.675533",
     "exception": false,
     "start_time": "2025-06-14T13:28:49.663684",
     "status": "completed"
    },
    "tags": []
   },
   "source": [
    "Using Simple Imputer as less than 20% data is missing (11.6%)"
   ]
  },
  {
   "cell_type": "code",
   "execution_count": 13,
   "id": "4d602f3b",
   "metadata": {
    "execution": {
     "iopub.execute_input": "2025-06-14T13:28:49.701444Z",
     "iopub.status.busy": "2025-06-14T13:28:49.700807Z",
     "iopub.status.idle": "2025-06-14T13:28:49.719551Z",
     "shell.execute_reply": "2025-06-14T13:28:49.718521Z"
    },
    "papermill": {
     "duration": 0.034056,
     "end_time": "2025-06-14T13:28:49.721389",
     "exception": false,
     "start_time": "2025-06-14T13:28:49.687333",
     "status": "completed"
    },
    "tags": []
   },
   "outputs": [],
   "source": [
    "impute = SimpleImputer(strategy = 'mean')\n",
    "X_imputed = impute.fit_transform(X)"
   ]
  },
  {
   "cell_type": "code",
   "execution_count": 14,
   "id": "a520931e",
   "metadata": {
    "execution": {
     "iopub.execute_input": "2025-06-14T13:28:49.747850Z",
     "iopub.status.busy": "2025-06-14T13:28:49.747300Z",
     "iopub.status.idle": "2025-06-14T13:28:49.776046Z",
     "shell.execute_reply": "2025-06-14T13:28:49.775268Z"
    },
    "papermill": {
     "duration": 0.043702,
     "end_time": "2025-06-14T13:28:49.777717",
     "exception": false,
     "start_time": "2025-06-14T13:28:49.734015",
     "status": "completed"
    },
    "tags": []
   },
   "outputs": [],
   "source": [
    "scaler = StandardScaler()\n",
    "X_scaled = scaler.fit_transform(X_imputed)"
   ]
  },
  {
   "cell_type": "markdown",
   "id": "3883f681",
   "metadata": {
    "papermill": {
     "duration": 0.011492,
     "end_time": "2025-06-14T13:28:49.801604",
     "exception": false,
     "start_time": "2025-06-14T13:28:49.790112",
     "status": "completed"
    },
    "tags": []
   },
   "source": [
    "For target variable:"
   ]
  },
  {
   "cell_type": "code",
   "execution_count": 15,
   "id": "d71849c8",
   "metadata": {
    "execution": {
     "iopub.execute_input": "2025-06-14T13:28:49.827157Z",
     "iopub.status.busy": "2025-06-14T13:28:49.826210Z",
     "iopub.status.idle": "2025-06-14T13:28:49.832209Z",
     "shell.execute_reply": "2025-06-14T13:28:49.831428Z"
    },
    "papermill": {
     "duration": 0.020168,
     "end_time": "2025-06-14T13:28:49.833572",
     "exception": false,
     "start_time": "2025-06-14T13:28:49.813404",
     "status": "completed"
    },
    "tags": []
   },
   "outputs": [],
   "source": [
    "label_encoder = LabelEncoder()\n",
    "y_encoded = label_encoder.fit_transform(y)"
   ]
  },
  {
   "cell_type": "markdown",
   "id": "04d38a7a",
   "metadata": {
    "papermill": {
     "duration": 0.011246,
     "end_time": "2025-06-14T13:28:49.856545",
     "exception": false,
     "start_time": "2025-06-14T13:28:49.845299",
     "status": "completed"
    },
    "tags": []
   },
   "source": [
    "### Train-Test Split"
   ]
  },
  {
   "cell_type": "code",
   "execution_count": 16,
   "id": "07ab35ea",
   "metadata": {
    "execution": {
     "iopub.execute_input": "2025-06-14T13:28:49.881660Z",
     "iopub.status.busy": "2025-06-14T13:28:49.881356Z",
     "iopub.status.idle": "2025-06-14T13:28:49.891695Z",
     "shell.execute_reply": "2025-06-14T13:28:49.890723Z"
    },
    "papermill": {
     "duration": 0.024749,
     "end_time": "2025-06-14T13:28:49.893386",
     "exception": false,
     "start_time": "2025-06-14T13:28:49.868637",
     "status": "completed"
    },
    "tags": []
   },
   "outputs": [],
   "source": [
    "X_train, X_test, y_train, y_test = train_test_split(X_scaled, y_encoded,\n",
    "                                                    test_size=0.2, random_state=42, stratify=y_encoded)"
   ]
  },
  {
   "cell_type": "markdown",
   "id": "fca55f2e",
   "metadata": {
    "papermill": {
     "duration": 0.011433,
     "end_time": "2025-06-14T13:28:49.916747",
     "exception": false,
     "start_time": "2025-06-14T13:28:49.905314",
     "status": "completed"
    },
    "tags": []
   },
   "source": [
    "### Model Fitting"
   ]
  },
  {
   "cell_type": "code",
   "execution_count": 17,
   "id": "f37a1618",
   "metadata": {
    "execution": {
     "iopub.execute_input": "2025-06-14T13:28:49.941654Z",
     "iopub.status.busy": "2025-06-14T13:28:49.941354Z",
     "iopub.status.idle": "2025-06-14T13:28:50.274796Z",
     "shell.execute_reply": "2025-06-14T13:28:50.274020Z"
    },
    "papermill": {
     "duration": 0.34861,
     "end_time": "2025-06-14T13:28:50.277083",
     "exception": false,
     "start_time": "2025-06-14T13:28:49.928473",
     "status": "completed"
    },
    "tags": []
   },
   "outputs": [
    {
     "data": {
      "text/html": [
       "<style>#sk-container-id-1 {color: black;background-color: white;}#sk-container-id-1 pre{padding: 0;}#sk-container-id-1 div.sk-toggleable {background-color: white;}#sk-container-id-1 label.sk-toggleable__label {cursor: pointer;display: block;width: 100%;margin-bottom: 0;padding: 0.3em;box-sizing: border-box;text-align: center;}#sk-container-id-1 label.sk-toggleable__label-arrow:before {content: \"▸\";float: left;margin-right: 0.25em;color: #696969;}#sk-container-id-1 label.sk-toggleable__label-arrow:hover:before {color: black;}#sk-container-id-1 div.sk-estimator:hover label.sk-toggleable__label-arrow:before {color: black;}#sk-container-id-1 div.sk-toggleable__content {max-height: 0;max-width: 0;overflow: hidden;text-align: left;background-color: #f0f8ff;}#sk-container-id-1 div.sk-toggleable__content pre {margin: 0.2em;color: black;border-radius: 0.25em;background-color: #f0f8ff;}#sk-container-id-1 input.sk-toggleable__control:checked~div.sk-toggleable__content {max-height: 200px;max-width: 100%;overflow: auto;}#sk-container-id-1 input.sk-toggleable__control:checked~label.sk-toggleable__label-arrow:before {content: \"▾\";}#sk-container-id-1 div.sk-estimator input.sk-toggleable__control:checked~label.sk-toggleable__label {background-color: #d4ebff;}#sk-container-id-1 div.sk-label input.sk-toggleable__control:checked~label.sk-toggleable__label {background-color: #d4ebff;}#sk-container-id-1 input.sk-hidden--visually {border: 0;clip: rect(1px 1px 1px 1px);clip: rect(1px, 1px, 1px, 1px);height: 1px;margin: -1px;overflow: hidden;padding: 0;position: absolute;width: 1px;}#sk-container-id-1 div.sk-estimator {font-family: monospace;background-color: #f0f8ff;border: 1px dotted black;border-radius: 0.25em;box-sizing: border-box;margin-bottom: 0.5em;}#sk-container-id-1 div.sk-estimator:hover {background-color: #d4ebff;}#sk-container-id-1 div.sk-parallel-item::after {content: \"\";width: 100%;border-bottom: 1px solid gray;flex-grow: 1;}#sk-container-id-1 div.sk-label:hover label.sk-toggleable__label {background-color: #d4ebff;}#sk-container-id-1 div.sk-serial::before {content: \"\";position: absolute;border-left: 1px solid gray;box-sizing: border-box;top: 0;bottom: 0;left: 50%;z-index: 0;}#sk-container-id-1 div.sk-serial {display: flex;flex-direction: column;align-items: center;background-color: white;padding-right: 0.2em;padding-left: 0.2em;position: relative;}#sk-container-id-1 div.sk-item {position: relative;z-index: 1;}#sk-container-id-1 div.sk-parallel {display: flex;align-items: stretch;justify-content: center;background-color: white;position: relative;}#sk-container-id-1 div.sk-item::before, #sk-container-id-1 div.sk-parallel-item::before {content: \"\";position: absolute;border-left: 1px solid gray;box-sizing: border-box;top: 0;bottom: 0;left: 50%;z-index: -1;}#sk-container-id-1 div.sk-parallel-item {display: flex;flex-direction: column;z-index: 1;position: relative;background-color: white;}#sk-container-id-1 div.sk-parallel-item:first-child::after {align-self: flex-end;width: 50%;}#sk-container-id-1 div.sk-parallel-item:last-child::after {align-self: flex-start;width: 50%;}#sk-container-id-1 div.sk-parallel-item:only-child::after {width: 0;}#sk-container-id-1 div.sk-dashed-wrapped {border: 1px dashed gray;margin: 0 0.4em 0.5em 0.4em;box-sizing: border-box;padding-bottom: 0.4em;background-color: white;}#sk-container-id-1 div.sk-label label {font-family: monospace;font-weight: bold;display: inline-block;line-height: 1.2em;}#sk-container-id-1 div.sk-label-container {text-align: center;}#sk-container-id-1 div.sk-container {/* jupyter's `normalize.less` sets `[hidden] { display: none; }` but bootstrap.min.css set `[hidden] { display: none !important; }` so we also need the `!important` here to be able to override the default hidden behavior on the sphinx rendered scikit-learn.org. See: https://github.com/scikit-learn/scikit-learn/issues/21755 */display: inline-block !important;position: relative;}#sk-container-id-1 div.sk-text-repr-fallback {display: none;}</style><div id=\"sk-container-id-1\" class=\"sk-top-container\"><div class=\"sk-text-repr-fallback\"><pre>LogisticRegression(class_weight=&#x27;balanced&#x27;, max_iter=1000,\n",
       "                   multi_class=&#x27;multinomial&#x27;, random_state=42)</pre><b>In a Jupyter environment, please rerun this cell to show the HTML representation or trust the notebook. <br />On GitHub, the HTML representation is unable to render, please try loading this page with nbviewer.org.</b></div><div class=\"sk-container\" hidden><div class=\"sk-item\"><div class=\"sk-estimator sk-toggleable\"><input class=\"sk-toggleable__control sk-hidden--visually\" id=\"sk-estimator-id-1\" type=\"checkbox\" checked><label for=\"sk-estimator-id-1\" class=\"sk-toggleable__label sk-toggleable__label-arrow\">LogisticRegression</label><div class=\"sk-toggleable__content\"><pre>LogisticRegression(class_weight=&#x27;balanced&#x27;, max_iter=1000,\n",
       "                   multi_class=&#x27;multinomial&#x27;, random_state=42)</pre></div></div></div></div></div>"
      ],
      "text/plain": [
       "LogisticRegression(class_weight='balanced', max_iter=1000,\n",
       "                   multi_class='multinomial', random_state=42)"
      ]
     },
     "execution_count": 17,
     "metadata": {},
     "output_type": "execute_result"
    }
   ],
   "source": [
    "model = LogisticRegression(\n",
    "    class_weight='balanced', \n",
    "    multi_class='multinomial',\n",
    "    solver='lbfgs',\n",
    "    max_iter=1000,\n",
    "    random_state = 42\n",
    ")\n",
    "model.fit(X_train, y_train)"
   ]
  },
  {
   "cell_type": "markdown",
   "id": "da3491e1",
   "metadata": {
    "papermill": {
     "duration": 0.019696,
     "end_time": "2025-06-14T13:28:50.317494",
     "exception": false,
     "start_time": "2025-06-14T13:28:50.297798",
     "status": "completed"
    },
    "tags": []
   },
   "source": [
    "### Model Prediction"
   ]
  },
  {
   "cell_type": "code",
   "execution_count": 18,
   "id": "5df83886",
   "metadata": {
    "execution": {
     "iopub.execute_input": "2025-06-14T13:28:50.359055Z",
     "iopub.status.busy": "2025-06-14T13:28:50.358649Z",
     "iopub.status.idle": "2025-06-14T13:28:50.372070Z",
     "shell.execute_reply": "2025-06-14T13:28:50.369518Z"
    },
    "papermill": {
     "duration": 0.035882,
     "end_time": "2025-06-14T13:28:50.374257",
     "exception": false,
     "start_time": "2025-06-14T13:28:50.338375",
     "status": "completed"
    },
    "tags": []
   },
   "outputs": [],
   "source": [
    "y_pred = model.predict(X_test)"
   ]
  },
  {
   "cell_type": "markdown",
   "id": "e61b541e",
   "metadata": {
    "papermill": {
     "duration": 0.01258,
     "end_time": "2025-06-14T13:28:50.399419",
     "exception": false,
     "start_time": "2025-06-14T13:28:50.386839",
     "status": "completed"
    },
    "tags": []
   },
   "source": [
    "#### Classification Report"
   ]
  },
  {
   "cell_type": "code",
   "execution_count": 19,
   "id": "1e97bafe",
   "metadata": {
    "execution": {
     "iopub.execute_input": "2025-06-14T13:28:50.425904Z",
     "iopub.status.busy": "2025-06-14T13:28:50.425595Z",
     "iopub.status.idle": "2025-06-14T13:28:50.440334Z",
     "shell.execute_reply": "2025-06-14T13:28:50.439236Z"
    },
    "papermill": {
     "duration": 0.029448,
     "end_time": "2025-06-14T13:28:50.441754",
     "exception": false,
     "start_time": "2025-06-14T13:28:50.412306",
     "status": "completed"
    },
    "tags": []
   },
   "outputs": [
    {
     "name": "stdout",
     "output_type": "stream",
     "text": [
      "              precision    recall  f1-score   support\n",
      "\n",
      "        farm       0.43      0.60      0.50       168\n",
      "      forest       0.96      0.69      0.81      1232\n",
      "       grass       0.15      0.64      0.25        39\n",
      "  impervious       0.72      0.74      0.73       134\n",
      "     orchard       0.05      0.83      0.09         6\n",
      "       water       0.21      0.71      0.33        21\n",
      "\n",
      "    accuracy                           0.69      1600\n",
      "   macro avg       0.42      0.70      0.45      1600\n",
      "weighted avg       0.85      0.69      0.75      1600\n",
      "\n"
     ]
    }
   ],
   "source": [
    "print(classification_report(\n",
    "    y_test,\n",
    "    y_pred,\n",
    "    labels=list(range(len(label_encoder.classes_))),\n",
    "    target_names=label_encoder.classes_\n",
    "))"
   ]
  },
  {
   "cell_type": "markdown",
   "id": "283b65e7",
   "metadata": {
    "papermill": {
     "duration": 0.011835,
     "end_time": "2025-06-14T13:28:50.465631",
     "exception": false,
     "start_time": "2025-06-14T13:28:50.453796",
     "status": "completed"
    },
    "tags": []
   },
   "source": [
    "#### Accuracy Score"
   ]
  },
  {
   "cell_type": "code",
   "execution_count": 20,
   "id": "490bf61d",
   "metadata": {
    "execution": {
     "iopub.execute_input": "2025-06-14T13:28:50.490885Z",
     "iopub.status.busy": "2025-06-14T13:28:50.490591Z",
     "iopub.status.idle": "2025-06-14T13:28:50.497806Z",
     "shell.execute_reply": "2025-06-14T13:28:50.497062Z"
    },
    "papermill": {
     "duration": 0.021785,
     "end_time": "2025-06-14T13:28:50.499442",
     "exception": false,
     "start_time": "2025-06-14T13:28:50.477657",
     "status": "completed"
    },
    "tags": []
   },
   "outputs": [
    {
     "data": {
      "text/plain": [
       "0.688125"
      ]
     },
     "execution_count": 20,
     "metadata": {},
     "output_type": "execute_result"
    }
   ],
   "source": [
    "accuracy_score(y_test, y_pred)"
   ]
  },
  {
   "cell_type": "markdown",
   "id": "d47b8265",
   "metadata": {
    "papermill": {
     "duration": 0.013193,
     "end_time": "2025-06-14T13:28:50.525265",
     "exception": false,
     "start_time": "2025-06-14T13:28:50.512072",
     "status": "completed"
    },
    "tags": []
   },
   "source": [
    "## Predicting for Test Data"
   ]
  },
  {
   "cell_type": "markdown",
   "id": "3b9c44c7",
   "metadata": {
    "papermill": {
     "duration": 0.012755,
     "end_time": "2025-06-14T13:28:50.550238",
     "exception": false,
     "start_time": "2025-06-14T13:28:50.537483",
     "status": "completed"
    },
    "tags": []
   },
   "source": [
    "Importing test dataset:"
   ]
  },
  {
   "cell_type": "code",
   "execution_count": 21,
   "id": "d6727893",
   "metadata": {
    "execution": {
     "iopub.execute_input": "2025-06-14T13:28:50.576773Z",
     "iopub.status.busy": "2025-06-14T13:28:50.576091Z",
     "iopub.status.idle": "2025-06-14T13:28:50.604676Z",
     "shell.execute_reply": "2025-06-14T13:28:50.603747Z"
    },
    "papermill": {
     "duration": 0.043539,
     "end_time": "2025-06-14T13:28:50.606409",
     "exception": false,
     "start_time": "2025-06-14T13:28:50.562870",
     "status": "completed"
    },
    "tags": []
   },
   "outputs": [
    {
     "data": {
      "text/plain": [
       "(2845, 29)"
      ]
     },
     "execution_count": 21,
     "metadata": {},
     "output_type": "execute_result"
    }
   ],
   "source": [
    "test_df = pd.read_csv(\"/kaggle/input/summer-analytics-mid-hackathon/hacktest.csv\")\n",
    "test_df.shape"
   ]
  },
  {
   "cell_type": "markdown",
   "id": "56f0e9ed",
   "metadata": {
    "papermill": {
     "duration": 0.012491,
     "end_time": "2025-06-14T13:28:50.631113",
     "exception": false,
     "start_time": "2025-06-14T13:28:50.618622",
     "status": "completed"
    },
    "tags": []
   },
   "source": [
    "Dropping index columns again:"
   ]
  },
  {
   "cell_type": "code",
   "execution_count": 22,
   "id": "728fec32",
   "metadata": {
    "execution": {
     "iopub.execute_input": "2025-06-14T13:28:50.657317Z",
     "iopub.status.busy": "2025-06-14T13:28:50.656686Z",
     "iopub.status.idle": "2025-06-14T13:28:50.661504Z",
     "shell.execute_reply": "2025-06-14T13:28:50.660520Z"
    },
    "papermill": {
     "duration": 0.019784,
     "end_time": "2025-06-14T13:28:50.663075",
     "exception": false,
     "start_time": "2025-06-14T13:28:50.643291",
     "status": "completed"
    },
    "tags": []
   },
   "outputs": [],
   "source": [
    "ID = test_df['ID']"
   ]
  },
  {
   "cell_type": "code",
   "execution_count": 23,
   "id": "3b9b2c00",
   "metadata": {
    "execution": {
     "iopub.execute_input": "2025-06-14T13:28:50.690794Z",
     "iopub.status.busy": "2025-06-14T13:28:50.690469Z",
     "iopub.status.idle": "2025-06-14T13:28:50.696130Z",
     "shell.execute_reply": "2025-06-14T13:28:50.695049Z"
    },
    "papermill": {
     "duration": 0.021632,
     "end_time": "2025-06-14T13:28:50.697715",
     "exception": false,
     "start_time": "2025-06-14T13:28:50.676083",
     "status": "completed"
    },
    "tags": []
   },
   "outputs": [],
   "source": [
    "X_test = test_df.drop(columns = ['Unnamed: 0', 'ID'])"
   ]
  },
  {
   "cell_type": "markdown",
   "id": "43c2d9b6",
   "metadata": {
    "papermill": {
     "duration": 0.011968,
     "end_time": "2025-06-14T13:28:50.722070",
     "exception": false,
     "start_time": "2025-06-14T13:28:50.710102",
     "status": "completed"
    },
    "tags": []
   },
   "source": [
    "Pre-processing test data:"
   ]
  },
  {
   "cell_type": "code",
   "execution_count": 24,
   "id": "24439d70",
   "metadata": {
    "execution": {
     "iopub.execute_input": "2025-06-14T13:28:50.748381Z",
     "iopub.status.busy": "2025-06-14T13:28:50.748042Z",
     "iopub.status.idle": "2025-06-14T13:28:50.774362Z",
     "shell.execute_reply": "2025-06-14T13:28:50.773127Z"
    },
    "papermill": {
     "duration": 0.041956,
     "end_time": "2025-06-14T13:28:50.776251",
     "exception": false,
     "start_time": "2025-06-14T13:28:50.734295",
     "status": "completed"
    },
    "tags": []
   },
   "outputs": [],
   "source": [
    "X_test_imputed = impute.fit_transform(X_test)\n",
    "X_test_scaled = scaler.fit_transform(X_test_imputed)"
   ]
  },
  {
   "cell_type": "code",
   "execution_count": 25,
   "id": "48f28fb9",
   "metadata": {
    "execution": {
     "iopub.execute_input": "2025-06-14T13:28:50.805638Z",
     "iopub.status.busy": "2025-06-14T13:28:50.805340Z",
     "iopub.status.idle": "2025-06-14T13:28:50.810488Z",
     "shell.execute_reply": "2025-06-14T13:28:50.809403Z"
    },
    "papermill": {
     "duration": 0.021532,
     "end_time": "2025-06-14T13:28:50.812158",
     "exception": false,
     "start_time": "2025-06-14T13:28:50.790626",
     "status": "completed"
    },
    "tags": []
   },
   "outputs": [],
   "source": [
    "y_test_df = model.predict(X_test_scaled)"
   ]
  },
  {
   "cell_type": "code",
   "execution_count": 26,
   "id": "72a98781",
   "metadata": {
    "execution": {
     "iopub.execute_input": "2025-06-14T13:28:50.838843Z",
     "iopub.status.busy": "2025-06-14T13:28:50.838537Z",
     "iopub.status.idle": "2025-06-14T13:28:50.844479Z",
     "shell.execute_reply": "2025-06-14T13:28:50.843563Z"
    },
    "papermill": {
     "duration": 0.021477,
     "end_time": "2025-06-14T13:28:50.846759",
     "exception": false,
     "start_time": "2025-06-14T13:28:50.825282",
     "status": "completed"
    },
    "tags": []
   },
   "outputs": [
    {
     "data": {
      "text/plain": [
       "array([1, 1, 3, ..., 1, 1, 1])"
      ]
     },
     "execution_count": 26,
     "metadata": {},
     "output_type": "execute_result"
    }
   ],
   "source": [
    "y_test"
   ]
  },
  {
   "cell_type": "code",
   "execution_count": 27,
   "id": "9c69f580",
   "metadata": {
    "execution": {
     "iopub.execute_input": "2025-06-14T13:28:50.873530Z",
     "iopub.status.busy": "2025-06-14T13:28:50.873226Z",
     "iopub.status.idle": "2025-06-14T13:28:50.880857Z",
     "shell.execute_reply": "2025-06-14T13:28:50.879826Z"
    },
    "papermill": {
     "duration": 0.02323,
     "end_time": "2025-06-14T13:28:50.882924",
     "exception": false,
     "start_time": "2025-06-14T13:28:50.859694",
     "status": "completed"
    },
    "tags": []
   },
   "outputs": [
    {
     "data": {
      "text/plain": [
       "array(['orchard', 'orchard', 'orchard', ..., 'water', 'water',\n",
       "       'impervious'], dtype=object)"
      ]
     },
     "execution_count": 27,
     "metadata": {},
     "output_type": "execute_result"
    }
   ],
   "source": [
    "y_decoded = label_encoder.inverse_transform(y_test_df)\n",
    "y_decoded"
   ]
  },
  {
   "cell_type": "code",
   "execution_count": 28,
   "id": "c2e1ac34",
   "metadata": {
    "execution": {
     "iopub.execute_input": "2025-06-14T13:28:50.909817Z",
     "iopub.status.busy": "2025-06-14T13:28:50.909483Z",
     "iopub.status.idle": "2025-06-14T13:28:50.914279Z",
     "shell.execute_reply": "2025-06-14T13:28:50.913417Z"
    },
    "papermill": {
     "duration": 0.019935,
     "end_time": "2025-06-14T13:28:50.915758",
     "exception": false,
     "start_time": "2025-06-14T13:28:50.895823",
     "status": "completed"
    },
    "tags": []
   },
   "outputs": [],
   "source": [
    "result = pd.DataFrame({\n",
    "    'ID': ID,\n",
    "    'class': y_decoded\n",
    "})"
   ]
  },
  {
   "cell_type": "code",
   "execution_count": 29,
   "id": "b7ae0466",
   "metadata": {
    "execution": {
     "iopub.execute_input": "2025-06-14T13:28:50.942674Z",
     "iopub.status.busy": "2025-06-14T13:28:50.942400Z",
     "iopub.status.idle": "2025-06-14T13:28:50.951696Z",
     "shell.execute_reply": "2025-06-14T13:28:50.950774Z"
    },
    "papermill": {
     "duration": 0.024792,
     "end_time": "2025-06-14T13:28:50.953433",
     "exception": false,
     "start_time": "2025-06-14T13:28:50.928641",
     "status": "completed"
    },
    "tags": []
   },
   "outputs": [
    {
     "data": {
      "text/html": [
       "<div>\n",
       "<style scoped>\n",
       "    .dataframe tbody tr th:only-of-type {\n",
       "        vertical-align: middle;\n",
       "    }\n",
       "\n",
       "    .dataframe tbody tr th {\n",
       "        vertical-align: top;\n",
       "    }\n",
       "\n",
       "    .dataframe thead th {\n",
       "        text-align: right;\n",
       "    }\n",
       "</style>\n",
       "<table border=\"1\" class=\"dataframe\">\n",
       "  <thead>\n",
       "    <tr style=\"text-align: right;\">\n",
       "      <th></th>\n",
       "      <th>ID</th>\n",
       "      <th>class</th>\n",
       "    </tr>\n",
       "  </thead>\n",
       "  <tbody>\n",
       "    <tr>\n",
       "      <th>0</th>\n",
       "      <td>1</td>\n",
       "      <td>orchard</td>\n",
       "    </tr>\n",
       "    <tr>\n",
       "      <th>1</th>\n",
       "      <td>2</td>\n",
       "      <td>orchard</td>\n",
       "    </tr>\n",
       "    <tr>\n",
       "      <th>2</th>\n",
       "      <td>3</td>\n",
       "      <td>orchard</td>\n",
       "    </tr>\n",
       "    <tr>\n",
       "      <th>3</th>\n",
       "      <td>4</td>\n",
       "      <td>orchard</td>\n",
       "    </tr>\n",
       "    <tr>\n",
       "      <th>4</th>\n",
       "      <td>5</td>\n",
       "      <td>orchard</td>\n",
       "    </tr>\n",
       "    <tr>\n",
       "      <th>...</th>\n",
       "      <td>...</td>\n",
       "      <td>...</td>\n",
       "    </tr>\n",
       "    <tr>\n",
       "      <th>2840</th>\n",
       "      <td>2841</td>\n",
       "      <td>water</td>\n",
       "    </tr>\n",
       "    <tr>\n",
       "      <th>2841</th>\n",
       "      <td>2842</td>\n",
       "      <td>impervious</td>\n",
       "    </tr>\n",
       "    <tr>\n",
       "      <th>2842</th>\n",
       "      <td>2843</td>\n",
       "      <td>water</td>\n",
       "    </tr>\n",
       "    <tr>\n",
       "      <th>2843</th>\n",
       "      <td>2844</td>\n",
       "      <td>water</td>\n",
       "    </tr>\n",
       "    <tr>\n",
       "      <th>2844</th>\n",
       "      <td>2845</td>\n",
       "      <td>impervious</td>\n",
       "    </tr>\n",
       "  </tbody>\n",
       "</table>\n",
       "<p>2845 rows × 2 columns</p>\n",
       "</div>"
      ],
      "text/plain": [
       "        ID       class\n",
       "0        1     orchard\n",
       "1        2     orchard\n",
       "2        3     orchard\n",
       "3        4     orchard\n",
       "4        5     orchard\n",
       "...    ...         ...\n",
       "2840  2841       water\n",
       "2841  2842  impervious\n",
       "2842  2843       water\n",
       "2843  2844       water\n",
       "2844  2845  impervious\n",
       "\n",
       "[2845 rows x 2 columns]"
      ]
     },
     "execution_count": 29,
     "metadata": {},
     "output_type": "execute_result"
    }
   ],
   "source": [
    "result"
   ]
  },
  {
   "cell_type": "code",
   "execution_count": 30,
   "id": "1a933926",
   "metadata": {
    "execution": {
     "iopub.execute_input": "2025-06-14T13:28:50.982725Z",
     "iopub.status.busy": "2025-06-14T13:28:50.982440Z",
     "iopub.status.idle": "2025-06-14T13:28:50.995105Z",
     "shell.execute_reply": "2025-06-14T13:28:50.994320Z"
    },
    "papermill": {
     "duration": 0.030036,
     "end_time": "2025-06-14T13:28:50.996782",
     "exception": false,
     "start_time": "2025-06-14T13:28:50.966746",
     "status": "completed"
    },
    "tags": []
   },
   "outputs": [],
   "source": [
    "result.to_csv(\"submission.csv\", index=False) #this file will appear under the output section of the right navbar. You need to submit this csv file"
   ]
  }
 ],
 "metadata": {
  "kaggle": {
   "accelerator": "none",
   "dataSources": [
    {
     "databundleVersionId": 12585144,
     "sourceId": 104491,
     "sourceType": "competition"
    }
   ],
   "dockerImageVersionId": 31040,
   "isGpuEnabled": false,
   "isInternetEnabled": true,
   "language": "python",
   "sourceType": "notebook"
  },
  "kernelspec": {
   "display_name": "Python 3",
   "language": "python",
   "name": "python3"
  },
  "language_info": {
   "codemirror_mode": {
    "name": "ipython",
    "version": 3
   },
   "file_extension": ".py",
   "mimetype": "text/x-python",
   "name": "python",
   "nbconvert_exporter": "python",
   "pygments_lexer": "ipython3",
   "version": "3.11.11"
  },
  "papermill": {
   "default_parameters": {},
   "duration": 13.814565,
   "end_time": "2025-06-14T13:28:51.730846",
   "environment_variables": {},
   "exception": null,
   "input_path": "__notebook__.ipynb",
   "output_path": "__notebook__.ipynb",
   "parameters": {},
   "start_time": "2025-06-14T13:28:37.916281",
   "version": "2.6.0"
  }
 },
 "nbformat": 4,
 "nbformat_minor": 5
}
